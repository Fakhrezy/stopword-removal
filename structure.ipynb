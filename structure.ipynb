{
 "cells": [
  {
   "cell_type": "markdown",
   "metadata": {},
   "source": [
    "##### ***import library :***"
   ]
  },
  {
   "cell_type": "code",
   "execution_count": 1,
   "metadata": {},
   "outputs": [],
   "source": [
    "import os\n",
    "import pandas as pd\n",
    "from docx import Document\n",
    "import win32com.client  \n",
    "import fitz  \n",
    "from PyPDF2 import PdfReader\n",
    "from collections import Counter\n",
    "import re"
   ]
  },
  {
   "cell_type": "markdown",
   "metadata": {},
   "source": [
    "##### ***membaca file txt :***"
   ]
  },
  {
   "cell_type": "code",
   "execution_count": 2,
   "metadata": {},
   "outputs": [],
   "source": [
    "# Fungsi untuk membaca file .txt\n",
    "def read_txt(file_path):\n",
    "    with open(file_path, 'r', encoding='utf-8') as file:\n",
    "        return file.read()"
   ]
  },
  {
   "cell_type": "markdown",
   "metadata": {},
   "source": [
    "##### ***membaca file docx :***"
   ]
  },
  {
   "cell_type": "code",
   "execution_count": 3,
   "metadata": {},
   "outputs": [],
   "source": [
    "# Fungsi untuk membaca file .docx\n",
    "def read_docx(file_path):\n",
    "    doc = Document(file_path)\n",
    "    full_text = []\n",
    "    for para in doc.paragraphs:\n",
    "        full_text.append(para.text)\n",
    "    return '\\n'.join(full_text)"
   ]
  },
  {
   "cell_type": "markdown",
   "metadata": {},
   "source": [
    "##### ***membaca file doc :***"
   ]
  },
  {
   "cell_type": "code",
   "execution_count": 4,
   "metadata": {},
   "outputs": [],
   "source": [
    "# Fungsi untuk membaca file .doc (menggunakan pywin32)\n",
    "def read_doc(file_path):\n",
    "    try:\n",
    "        word = win32com.client.Dispatch(\"Word.Application\")\n",
    "        word.Visible = False\n",
    "        doc = word.Documents.Open(file_path)\n",
    "        full_text = doc.Content.Text\n",
    "        doc.Close()\n",
    "        word.Quit()\n",
    "        return full_text\n",
    "    except Exception as e:\n",
    "        print(f\"Terjadi kesalahan saat membuka file DOC: {e}\")\n",
    "        return \"\""
   ]
  },
  {
   "cell_type": "markdown",
   "metadata": {},
   "source": [
    "##### ***membaca file pdf :***"
   ]
  },
  {
   "cell_type": "code",
   "execution_count": 5,
   "metadata": {},
   "outputs": [],
   "source": [
    "# Fungsi untuk membaca file .pdf\n",
    "def read_pdf(file_path):\n",
    "    doc = fitz.open(file_path)\n",
    "    full_text = []\n",
    "    for page_num in range(doc.page_count):\n",
    "        page = doc.load_page(page_num)\n",
    "        full_text.append(page.get_text())\n",
    "    return '\\n'.join(full_text)"
   ]
  },
  {
   "cell_type": "markdown",
   "metadata": {},
   "source": [
    "##### ***load stopwords :***"
   ]
  },
  {
   "cell_type": "code",
   "execution_count": 6,
   "metadata": {},
   "outputs": [],
   "source": [
    "# Fungsi untuk memuat stopwords dari file CSV\n",
    "def load_stopwords_from_csv(file_path):\n",
    "    stopwords_df = pd.read_csv(file_path, header=None)\n",
    "    return set(stopwords_df[0].str.strip().tolist())"
   ]
  },
  {
   "cell_type": "markdown",
   "metadata": {},
   "source": [
    "##### ***filter & hapus stopwords :***"
   ]
  },
  {
   "cell_type": "code",
   "execution_count": 7,
   "metadata": {},
   "outputs": [],
   "source": [
    "# Fungsi untuk memfilter stopwords\n",
    "def remove_stopwords(text, stop_words):\n",
    "    # Tokenisasi teks dengan memisahkan berdasarkan spasi dan menghapus karakter non-huruf\n",
    "    tokens = re.findall(r'\\b\\w+\\b', text.lower())\n",
    "    # Hapus stopwords\n",
    "    filtered_words = [word for word in tokens if word not in stop_words]\n",
    "    return filtered_words"
   ]
  },
  {
   "cell_type": "markdown",
   "metadata": {},
   "source": [
    "##### ***hitung stopwords***"
   ]
  },
  {
   "cell_type": "code",
   "execution_count": 8,
   "metadata": {},
   "outputs": [],
   "source": [
    "# Fungsi untuk menghitung kata penting\n",
    "def count_important_words(text, stop_words):\n",
    "    # Hapus stopwords\n",
    "    filtered_words = remove_stopwords(text, stop_words)\n",
    "    # Hitung frekuensi kata\n",
    "    word_counts = Counter(filtered_words)\n",
    "    return word_counts"
   ]
  },
  {
   "cell_type": "markdown",
   "metadata": {},
   "source": [
    "##### ***baca isi file dan proses stop removal :***"
   ]
  },
  {
   "cell_type": "code",
   "execution_count": 9,
   "metadata": {},
   "outputs": [],
   "source": [
    "# Fungsi untuk memproses file sesuai format yang dipilih\n",
    "def process_file(file_path, stopwords):\n",
    "    print(f\"\\nMembaca file: {file_path}\")\n",
    "    \n",
    "    if file_path.endswith('.txt'):\n",
    "        text = read_txt(file_path)\n",
    "    elif file_path.endswith('.docx'):\n",
    "        text = read_docx(file_path)\n",
    "    elif file_path.endswith('.doc'):\n",
    "        text = read_doc(file_path)\n",
    "    elif file_path.endswith('.pdf'):\n",
    "        text = read_pdf(file_path)\n",
    "    else:\n",
    "        print(f\"Format file {file_path} tidak didukung.\")\n",
    "        return\n",
    "    \n",
    "    word_counts = count_important_words(text, stopwords)\n",
    "    \n",
    "    if word_counts:\n",
    "        print(\"Jumlah kata penting di file ini:\")\n",
    "        for word, count in word_counts.items():\n",
    "            print(f\"Kata '{word}' ({count} kali).\")\n",
    "    else:\n",
    "        print(\"Tidak ada kata penting yang ditemukan.\")\n"
   ]
  },
  {
   "cell_type": "markdown",
   "metadata": {},
   "source": [
    "##### ***menu utama (input) :***"
   ]
  },
  {
   "cell_type": "code",
   "execution_count": 10,
   "metadata": {},
   "outputs": [
    {
     "name": "stdout",
     "output_type": "stream",
     "text": [
      "\n",
      "Pilih format untuk membaca isi dokumen:\n",
      "1. DOCX/DOC\n",
      "2. TXT\n",
      "3. PDF\n",
      "\n",
      "Membaca file: document/tes.txt\n",
      "Jumlah kata penting di file ini:\n",
      "Kata 'contoh' (3 kali).\n",
      "Kata 'file' (4 kali).\n",
      "Kata 'membaca' (1 kali).\n",
      "Kata 'tokenisasi' (1 kali).\n"
     ]
    }
   ],
   "source": [
    "\n",
    "# Fungsi utama untuk meminta input dari terminal\n",
    "def main():\n",
    "    stopword_file = 'data/stopwordbahasa.csv'\n",
    "\n",
    "    stopwords = load_stopwords_from_csv(stopword_file)\n",
    "\n",
    "    print(\"\\nPilih format untuk membaca isi dokumen:\")\n",
    "    print(\"1. DOCX/DOC\")\n",
    "    print(\"2. TXT\")\n",
    "    print(\"3. PDF\")\n",
    "    \n",
    "    choice = input(\"Masukkan 1/2/3: \").strip()\n",
    "\n",
    "    if choice == '1':\n",
    "        file_format = '.docx'\n",
    "    elif choice == '2':\n",
    "        file_format = '.txt'\n",
    "    elif choice == '3':\n",
    "        file_format = '.pdf'\n",
    "    else:\n",
    "        print(\"Pilihan tidak valid!\")\n",
    "        return\n",
    "\n",
    "    file_name = input(f\"Masukkan direktori atau dokumen ({file_format}): \").strip()\n",
    "\n",
    "    if not file_name.endswith(file_format):\n",
    "        file_name += file_format\n",
    "\n",
    "    if os.path.isfile(file_name):\n",
    "        process_file(file_name, stopwords)\n",
    "    else:\n",
    "        print(f\"File {file_name} tidak ditemukan atau tidak valid.\")\n",
    "\n",
    "if __name__ == \"__main__\":\n",
    "    main()\n"
   ]
  }
 ],
 "metadata": {
  "kernelspec": {
   "display_name": "Python 3",
   "language": "python",
   "name": "python3"
  },
  "language_info": {
   "codemirror_mode": {
    "name": "ipython",
    "version": 3
   },
   "file_extension": ".py",
   "mimetype": "text/x-python",
   "name": "python",
   "nbconvert_exporter": "python",
   "pygments_lexer": "ipython3",
   "version": "3.11.9"
  }
 },
 "nbformat": 4,
 "nbformat_minor": 2
}
